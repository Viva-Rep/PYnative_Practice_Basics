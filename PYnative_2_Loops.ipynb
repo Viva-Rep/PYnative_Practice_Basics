{
 "cells": [
  {
   "cell_type": "markdown",
   "id": "ac6e5f23-57ab-49b1-8f3d-ff20631c9905",
   "metadata": {},
   "source": [
    "# Exercise 1: Print first 10 natural numbers using while loop"
   ]
  },
  {
   "cell_type": "code",
   "execution_count": 4,
   "id": "43aa277a-e632-442f-95fb-ed588b41fc4c",
   "metadata": {},
   "outputs": [
    {
     "name": "stdout",
     "output_type": "stream",
     "text": [
      "1\n",
      "2\n",
      "3\n",
      "4\n",
      "5\n",
      "6\n",
      "7\n",
      "8\n",
      "9\n",
      "10\n"
     ]
    }
   ],
   "source": [
    "i = 1\n",
    "\n",
    "while i <= 10:\n",
    "    print(i)\n",
    "    i = i + 1"
   ]
  },
  {
   "cell_type": "markdown",
   "id": "68633a34-b8fe-4ded-bc92-b7722924b441",
   "metadata": {},
   "source": [
    "# Exercise 2: Print the following pattern\n",
    "##### 1\n",
    "##### 1 2\n",
    "##### 1 2 3\n",
    "##### 1 2 3 4 \n",
    "##### 1 2 3 4 5"
   ]
  },
  {
   "cell_type": "code",
   "execution_count": 17,
   "id": "f53b320a-db27-4392-a0c6-14112869c1ad",
   "metadata": {},
   "outputs": [
    {
     "name": "stdout",
     "output_type": "stream",
     "text": [
      "1 \t\t\n",
      "1 2 \t\t\n",
      "1 2 3 \t\t\n",
      "1 2 3 4 \t\t\n",
      "1 2 3 4 5 \t\t\n"
     ]
    }
   ],
   "source": [
    "def print_pattern(n):\n",
    "    for i in range(1, n+1, 1):\n",
    "        j = 1\n",
    "        for j in range(1, i+1, 1):\n",
    "            print(j, end = \" \")\n",
    "        j = j + 1\n",
    "        print(\"\\t\\t\")\n",
    "    i = i + 1\n",
    "\n",
    "print_pattern(5)"
   ]
  },
  {
   "cell_type": "markdown",
   "id": "74051b85-bbbc-4392-8d91-bb9873a7f624",
   "metadata": {},
   "source": [
    "# Exercise 3: Calculate sum of all numbers from 1 to a given number\n",
    "##### Write a Python program to accept a number from a user and calculate the sum of all numbers from 1 to a given number\n",
    "##### For example, if the user entered 10, the output should be 55 (1+2+3+4+5+6+7+8+9+10"
   ]
  },
  {
   "cell_type": "code",
   "execution_count": 28,
   "id": "c510b280-90b4-457c-b57a-7377dbe125dd",
   "metadata": {},
   "outputs": [
    {
     "name": "stdin",
     "output_type": "stream",
     "text": [
      "Enter the number 10\n"
     ]
    },
    {
     "name": "stdout",
     "output_type": "stream",
     "text": [
      "Sum is:  55\n"
     ]
    }
   ],
   "source": [
    "n = int(input(\"Enter the number\"))\n",
    "sum_n = 0\n",
    "for i in range(n + 1):\n",
    "    sum_n = sum_n + i\n",
    "print(\"Sum is: \", sum_n)"
   ]
  },
  {
   "cell_type": "markdown",
   "id": "2f33bb98-c263-433a-8da2-3c70d90fa98c",
   "metadata": {},
   "source": [
    "# Exercise 4: Print multiplication table of a given number"
   ]
  },
  {
   "cell_type": "code",
   "execution_count": 33,
   "id": "74ef6ad7-74e7-40a3-b9d4-19fb34ba8db4",
   "metadata": {},
   "outputs": [
    {
     "name": "stdout",
     "output_type": "stream",
     "text": [
      "num =  2\n",
      "2\n",
      "4\n",
      "6\n",
      "8\n",
      "10\n",
      "12\n",
      "14\n",
      "16\n",
      "18\n",
      "20\n"
     ]
    }
   ],
   "source": [
    "def mul_table(n):\n",
    "    print(\"num = \", n)\n",
    "    for i in range(1, 11, 1):\n",
    "        product = n * i\n",
    "        print(product)\n",
    "\n",
    "mul_table(2)        "
   ]
  },
  {
   "cell_type": "markdown",
   "id": "c7063883-e8c1-4467-9e49-031962da9a13",
   "metadata": {},
   "source": [
    "# Exercise 5: Display numbers from a list using a loop\n",
    "##### Write a Python program to display only those numbers from a list that satisfy the following conditions\n",
    "\n",
    "##### __*__ The number must be divisible by five\n",
    "##### __*__ If the number is greater than 150, then skip it and move to the following number\n",
    "##### __*__ If the number is greater than 500, then stop the loop"
   ]
  },
  {
   "cell_type": "code",
   "execution_count": 11,
   "id": "3e02d311-60d2-438e-a544-66fd490c54c8",
   "metadata": {},
   "outputs": [
    {
     "name": "stdout",
     "output_type": "stream",
     "text": [
      "120\n",
      "75\n",
      "150\n",
      "20\n",
      "145\n"
     ]
    }
   ],
   "source": [
    "def custom_list(list1):\n",
    "    for i in range(0, len(list1)-1, 1):\n",
    "        if list1[i] > 500:\n",
    "            break\n",
    "        elif list1[i] % 5 == 0 and list1[i] <=150:\n",
    "            print(list1[i])\n",
    "            i = i + 1\n",
    "\n",
    "custom_list([120, 75, 150, 180, 20, 145, 525, 50, 45, 188, 200])"
   ]
  },
  {
   "cell_type": "markdown",
   "id": "a81ac667-862b-43e3-ad3d-9adaf97e3cbf",
   "metadata": {},
   "source": [
    "# Exercise 6: Count the total number of digits in a number\n",
    "##### Write a Python program to count the total number of digits in a number using a while loop."
   ]
  },
  {
   "cell_type": "code",
   "execution_count": 22,
   "id": "cb061202-748c-4724-a71f-256aed99eba8",
   "metadata": {},
   "outputs": [
    {
     "name": "stdout",
     "output_type": "stream",
     "text": [
      "Number of digits in the given number: 5\n"
     ]
    }
   ],
   "source": [
    "# Solution 1\n",
    "\n",
    "def count_digits(n):\n",
    "    list_digits = []\n",
    "    while n != 0:\n",
    "        remainder = n % 10\n",
    "        list_digits.append(remainder)\n",
    "        n = n // 10\n",
    "    print(\"Number of digits in the given number:\", len(list_digits))\n",
    "\n",
    "count_digits(12345)"
   ]
  },
  {
   "cell_type": "code",
   "execution_count": 26,
   "id": "53128cf3-cd93-4d3c-9bb9-ab38e068948a",
   "metadata": {},
   "outputs": [
    {
     "name": "stdout",
     "output_type": "stream",
     "text": [
      "Number of digits in the given number: 8\n"
     ]
    }
   ],
   "source": [
    "# Solution 2\n",
    "\n",
    "def count_dgts(n):\n",
    "    count = 0\n",
    "    while n != 0:\n",
    "        n = n // 10\n",
    "        count = count + 1\n",
    "    print(\"Number of digits in the given number:\", count)\n",
    "\n",
    "count_dgts(12345678)"
   ]
  },
  {
   "cell_type": "markdown",
   "id": "a5092fe8-4ebc-4607-84aa-9c747a630448",
   "metadata": {},
   "source": [
    "# Exercise 7: Print the following pattern\n",
    "##### Write a Python program to print the reverse number pattern using a for loop.\n",
    "##### 5 4 3 2 1\n",
    "##### 4 3 2 1\n",
    "##### 3 2 1\n",
    "##### 2 1\n",
    "##### 1"
   ]
  },
  {
   "cell_type": "code",
   "execution_count": 35,
   "id": "39cd749c-1dde-4826-a055-2e1e59b8bf4b",
   "metadata": {},
   "outputs": [
    {
     "name": "stdin",
     "output_type": "stream",
     "text": [
      "Enter the number of lines to print: 5\n"
     ]
    },
    {
     "name": "stdout",
     "output_type": "stream",
     "text": [
      "5 4 3 2 1 \t\t\n",
      "4 3 2 1 \t\t\n",
      "3 2 1 \t\t\n",
      "2 1 \t\t\n",
      "1 \t\t\n"
     ]
    }
   ],
   "source": [
    "n = int(input(\"Enter the number of lines to print:\"))\n",
    "\n",
    "for i in range(n, 0, -1):\n",
    "    for j in range(i, 0, -1):\n",
    "        print(j, end = \" \")\n",
    "    print(\"\\t\\t\")"
   ]
  },
  {
   "cell_type": "markdown",
   "id": "85decd23-4ae2-400f-8584-341773859a55",
   "metadata": {},
   "source": [
    "# Exercise 8: Print list in reverse order using a loop"
   ]
  },
  {
   "cell_type": "code",
   "execution_count": 48,
   "id": "31dc99c4-6203-4e21-9864-d9451af4dd28",
   "metadata": {},
   "outputs": [
    {
     "name": "stdout",
     "output_type": "stream",
     "text": [
      "50\n",
      "40\n",
      "30\n",
      "20\n",
      "10\n"
     ]
    }
   ],
   "source": [
    "# Solution 1\n",
    "\n",
    "def list_reverse(list1):\n",
    "    for i in range(len(list1)-1, -1, -1):\n",
    "        print(list1[i])\n",
    "\n",
    "list_reverse([10, 20, 30, 40, 50])"
   ]
  },
  {
   "cell_type": "code",
   "execution_count": 54,
   "id": "686b3379-f996-4096-8c6f-399a500999e0",
   "metadata": {},
   "outputs": [
    {
     "name": "stdout",
     "output_type": "stream",
     "text": [
      "50\n",
      "40\n",
      "30\n",
      "20\n",
      "10\n"
     ]
    }
   ],
   "source": [
    "# Solution 2\n",
    "\n",
    "def list_rev(list_1):\n",
    "    new_list = reversed(list_1)\n",
    "    for i in new_list:\n",
    "        print(i)\n",
    "        \n",
    "list_rev([10, 20, 30, 40, 50])"
   ]
  },
  {
   "cell_type": "markdown",
   "id": "da4ee76e-50b5-44cf-8c79-b41dfe5d4bb6",
   "metadata": {},
   "source": [
    "# Exercise 9: Display numbers from -10 to -1 using for loop"
   ]
  },
  {
   "cell_type": "code",
   "execution_count": 67,
   "id": "b286590f-dd6c-44cb-888b-ecd39e3fa2e9",
   "metadata": {},
   "outputs": [
    {
     "name": "stdin",
     "output_type": "stream",
     "text": [
      "Enter the starting number -10\n"
     ]
    },
    {
     "name": "stdout",
     "output_type": "stream",
     "text": [
      "-10\n",
      "-9\n",
      "-8\n",
      "-7\n",
      "-6\n",
      "-5\n",
      "-4\n",
      "-3\n",
      "-2\n",
      "-1\n"
     ]
    }
   ],
   "source": [
    "n = int(input(\"Enter the starting number\"))\n",
    "\n",
    "for i in range(n, 0, 1):\n",
    "    print(i)"
   ]
  },
  {
   "cell_type": "markdown",
   "id": "263f7890-b2c6-4e52-9c3a-73d165b2459f",
   "metadata": {},
   "source": [
    "# Exercise 10: Display a message “Done” after the successful execution of the for loop"
   ]
  },
  {
   "cell_type": "code",
   "execution_count": 70,
   "id": "9333219f-1679-4245-b985-015c72ae914b",
   "metadata": {},
   "outputs": [
    {
     "name": "stdout",
     "output_type": "stream",
     "text": [
      "0\n",
      "1\n",
      "2\n",
      "3\n",
      "4\n",
      "Done!\n"
     ]
    }
   ],
   "source": [
    "for i in range(5):\n",
    "    print(i)\n",
    "print(\"Done!\")"
   ]
  },
  {
   "cell_type": "markdown",
   "id": "7d8100eb-d09a-4194-8a58-ffd5760e2caa",
   "metadata": {},
   "source": [
    "# Exercise 11: Print all prime numbers within a range"
   ]
  },
  {
   "cell_type": "code",
   "execution_count": 86,
   "id": "cab6eadb-6de3-49cc-9f1a-3d8c984f0487",
   "metadata": {},
   "outputs": [
    {
     "name": "stdout",
     "output_type": "stream",
     "text": [
      "Prime numbers between 25 and 60 are:\n",
      "29\n",
      "31\n",
      "37\n",
      "41\n",
      "43\n",
      "47\n",
      "53\n",
      "59\n"
     ]
    }
   ],
   "source": [
    "def prime_numbers(b, e):\n",
    "    print(f\"Prime numbers between {b} and {e} are:\")\n",
    "    for i in range(b, e + 1, 1):\n",
    "        j = 2\n",
    "        for j in range (2, i, 1):\n",
    "            if i % j == 0:\n",
    "                break\n",
    "        else:\n",
    "            print(i)\n",
    "\n",
    "prime_numbers(25, 60)"
   ]
  },
  {
   "cell_type": "markdown",
   "id": "4ff6c74a-32ac-475a-a761-04b533c0f565",
   "metadata": {},
   "source": [
    "# Exercise 12: Display Fibonacci series up to 10 terms"
   ]
  },
  {
   "cell_type": "code",
   "execution_count": 95,
   "id": "e5712064-c562-4ff0-9b1e-7a09a82f1ca3",
   "metadata": {},
   "outputs": [
    {
     "name": "stdout",
     "output_type": "stream",
     "text": [
      "Fibonacci sequence:\n",
      "0 1 1 2 3 5 8 13 21 34 "
     ]
    }
   ],
   "source": [
    "first_num = 0\n",
    "second_num = 1\n",
    "\n",
    "print(\"Fibonacci sequence:\")\n",
    "print(first_num, end = \" \")\n",
    "print(second_num, end = \" \")\n",
    "\n",
    "for i in range(8):\n",
    "    num = first_num + second_num\n",
    "    print(num, end = \" \")\n",
    "    first_num = second_num\n",
    "    second_num = num\n",
    "    "
   ]
  },
  {
   "cell_type": "markdown",
   "id": "d051a06c-275d-4a0e-a589-183ebb4b8537",
   "metadata": {},
   "source": [
    "# Exercise 13: Find the factorial of a given number"
   ]
  },
  {
   "cell_type": "code",
   "execution_count": 102,
   "id": "e23422b2-717a-4212-9dc2-4ce88c6b08d7",
   "metadata": {},
   "outputs": [
    {
     "name": "stdout",
     "output_type": "stream",
     "text": [
      "120\n"
     ]
    }
   ],
   "source": [
    "def fact_n(n):\n",
    "    fact_num = n\n",
    "    for i in range(n-1, 1, -1):\n",
    "        fact_num = fact_num * (n-1)\n",
    "        n = n - 1\n",
    "    print(fact_num)\n",
    "\n",
    "fact_n(5)"
   ]
  },
  {
   "cell_type": "markdown",
   "id": "1d400a3b-0e49-47fc-910d-fc0bc8733c20",
   "metadata": {},
   "source": [
    "# Exercise 14: Reverse a integer number"
   ]
  },
  {
   "cell_type": "code",
   "execution_count": 111,
   "id": "b0ac05fb-55f6-41c6-9600-812a161de121",
   "metadata": {},
   "outputs": [
    {
     "name": "stdout",
     "output_type": "stream",
     "text": [
      "24567\n"
     ]
    }
   ],
   "source": [
    "def rev_num(n):\n",
    "    reverse_num = 0\n",
    "    \n",
    "    while n != 0:\n",
    "        remainder = n % 10\n",
    "        reverse_num = (reverse_num * 10) + remainder\n",
    "        n = n // 10\n",
    "        \n",
    "    print(reverse_num)\n",
    "\n",
    "rev_num(76542)"
   ]
  },
  {
   "cell_type": "markdown",
   "id": "501d0777-e3ce-4b5d-959b-869ba810187d",
   "metadata": {},
   "source": [
    "# Exercise 15: Print elements from a given list present at odd index positions"
   ]
  },
  {
   "cell_type": "code",
   "execution_count": 118,
   "id": "ec164edc-d45d-452a-bfbc-bb071fd5e261",
   "metadata": {},
   "outputs": [
    {
     "name": "stdout",
     "output_type": "stream",
     "text": [
      "20 40 60 80 "
     ]
    }
   ],
   "source": [
    "def odd_index(list_test):\n",
    "    list_odd = []\n",
    "    for i in range(len(list_test)-1):\n",
    "        if i % 2 != 0:\n",
    "            list_odd.append(list_test[i])\n",
    "\n",
    "    for i in list_odd:\n",
    "        print(i, end = \" \")\n",
    "\n",
    "odd_index([10, 20, 30, 40, 50, 60, 70, 80, 90, 100])"
   ]
  },
  {
   "cell_type": "markdown",
   "id": "e6df3674-4909-4a46-9320-c6743d5a01e8",
   "metadata": {},
   "source": [
    "# Exercise 16: Calculate the cube of all numbers from 1 to a given number"
   ]
  },
  {
   "cell_type": "code",
   "execution_count": 125,
   "id": "d9ad94ed-2917-4745-9d0d-82c12faf7fbb",
   "metadata": {},
   "outputs": [
    {
     "name": "stdout",
     "output_type": "stream",
     "text": [
      "Current number is: 1 and the cube is 1\n",
      "Current number is: 2 and the cube is 8\n",
      "Current number is: 3 and the cube is 27\n",
      "Current number is: 4 and the cube is 64\n",
      "Current number is: 5 and the cube is 125\n",
      "Current number is: 6 and the cube is 216\n"
     ]
    }
   ],
   "source": [
    "def cubes(n):\n",
    "    for i in range(1, n + 1, 1):\n",
    "        cube_n = i ** 3\n",
    "        print(f\"Current number is: {i} and the cube is {cube_n}\")\n",
    "\n",
    "cubes(6)"
   ]
  },
  {
   "cell_type": "markdown",
   "id": "8efb66b0-d51c-46c1-b0fd-9bfda480a63d",
   "metadata": {},
   "source": [
    "# Exercise 17: Find the sum of the series up to n terms\n",
    "##### Write a program to calculate the sum of series up to n terms. For example, if n = 5 the series will become 2 + 22 + 222 + 2222 + 22222 = 24690"
   ]
  },
  {
   "cell_type": "code",
   "execution_count": 139,
   "id": "5004e3fc-aaf0-44ae-b5e6-eda6f882df84",
   "metadata": {},
   "outputs": [
    {
     "name": "stdout",
     "output_type": "stream",
     "text": [
      "[2, 22, 222, 2222, 22222]\n",
      "24690\n"
     ]
    }
   ],
   "source": [
    "def series_sum(a, n):\n",
    "    series_list = []\n",
    "    series_list.append(a)\n",
    "    next_a = a\n",
    "    for i in range(1, n):\n",
    "        next_a = a + (10 * next_a)\n",
    "        series_list.append(next_a)\n",
    "\n",
    "    print(series_list)\n",
    "    total_sum = sum(series_list) \n",
    "    print(total_sum)\n",
    "\n",
    "series_sum(2, 5)\n",
    "        "
   ]
  },
  {
   "cell_type": "markdown",
   "id": "81848949-12dc-4043-aefc-224f79ed56e3",
   "metadata": {},
   "source": [
    "# Exercise 18: Print the following pattern\n",
    "##### * \n",
    "##### * * \n",
    "##### * * * \n",
    "##### * * * * \n",
    "##### * * * * * \n",
    "##### * * * * \n",
    "##### * * * \n",
    "##### * * \n",
    "##### *"
   ]
  },
  {
   "cell_type": "code",
   "execution_count": 156,
   "id": "3927cbb6-6479-4453-8f68-00efff40e8ee",
   "metadata": {},
   "outputs": [
    {
     "name": "stdout",
     "output_type": "stream",
     "text": [
      "\n",
      "*\n",
      "**\n",
      "***\n",
      "****\n",
      "*****\n",
      "******\n",
      "*****\n",
      "****\n",
      "***\n",
      "**\n",
      "*\n"
     ]
    }
   ],
   "source": [
    "import math\n",
    "def num_lines(n):\n",
    "    x = math.ceil(n / 2)\n",
    "    y = math.floor(n / 2)\n",
    "    for i in range(x + 1):\n",
    "        print(\"*\"*i)\n",
    "\n",
    "    for j in range(y+1, 0, -1):\n",
    "        print(\"*\"*j)\n",
    "\n",
    "num_lines(10)"
   ]
  },
  {
   "cell_type": "code",
   "execution_count": null,
   "id": "6cc7c7a1-93a4-40d4-85db-5867f5516176",
   "metadata": {},
   "outputs": [],
   "source": []
  }
 ],
 "metadata": {
  "kernelspec": {
   "display_name": "Python [conda env:base] *",
   "language": "python",
   "name": "conda-base-py"
  },
  "language_info": {
   "codemirror_mode": {
    "name": "ipython",
    "version": 3
   },
   "file_extension": ".py",
   "mimetype": "text/x-python",
   "name": "python",
   "nbconvert_exporter": "python",
   "pygments_lexer": "ipython3",
   "version": "3.12.7"
  }
 },
 "nbformat": 4,
 "nbformat_minor": 5
}
