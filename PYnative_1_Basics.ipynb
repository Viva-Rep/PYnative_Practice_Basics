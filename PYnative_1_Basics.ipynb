{
 "cells": [
  {
   "cell_type": "markdown",
   "id": "930bef44-0e0a-4984-8dd1-77260d1a3dc6",
   "metadata": {},
   "source": [
    "### Exercise 1: Calculate the multiplication and sum of two numbers\n",
    "##### Given two integer numbers, write a Python code to return their product only if the product is equal to or lower than 1000. Otherwise, return their sum."
   ]
  },
  {
   "cell_type": "code",
   "execution_count": 3,
   "id": "13151080-45f9-4207-abca-cf4f046a4a38",
   "metadata": {},
   "outputs": [
    {
     "name": "stdout",
     "output_type": "stream",
     "text": [
      "The result is  70\n"
     ]
    }
   ],
   "source": [
    "# Solution 1\n",
    "number1 = 40\n",
    "number2 = 30\n",
    "\n",
    "if number1 * number2 <= 1000:\n",
    "    print(\"The result is \", number1 * number2)\n",
    "else:\n",
    "    print(\"The result is \", number1 + number2)"
   ]
  },
  {
   "cell_type": "code",
   "execution_count": 44,
   "id": "6a95430b-7f8d-42fd-a062-eb93684320f0",
   "metadata": {},
   "outputs": [
    {
     "name": "stdin",
     "output_type": "stream",
     "text": [
      "Enter the first number 20\n",
      "Enter the second number 20\n"
     ]
    },
    {
     "name": "stdout",
     "output_type": "stream",
     "text": [
      "The result is  400\n"
     ]
    }
   ],
   "source": [
    "# Solution 2\n",
    "number1 = int(input(\"Enter the first number\"))\n",
    "number2 = int(input(\"Enter the second number\"))\n",
    "\n",
    "if number1 * number2 <= 1000:\n",
    "    print(\"The result is \", number1 * number2)\n",
    "else:\n",
    "    print(\"The result is \", number1 + number2)"
   ]
  },
  {
   "cell_type": "code",
   "execution_count": 83,
   "id": "56fd32b8-8c8a-42da-ac12-3986d23a6cb1",
   "metadata": {},
   "outputs": [
    {
     "name": "stdout",
     "output_type": "stream",
     "text": [
      "The result is  70\n"
     ]
    }
   ],
   "source": [
    "#Solution 3\n",
    "def calculation(number1, number2):\n",
    "    \n",
    "    if number1 * number2 <= 1000:\n",
    "        print(\"The result is \", number1 * number2)\n",
    "    else:\n",
    "        print(\"The result is \", number1 + number2)\n",
    "\n",
    "calculation(40, 30)"
   ]
  },
  {
   "cell_type": "markdown",
   "id": "7b701d7f-1240-4f04-a7f4-b9d367a25597",
   "metadata": {},
   "source": [
    "### Exercise 2: Print the Sum of a Current Number and a Previous number\n",
    "##### Write a Python code to iterate the first 10 numbers, and in each iteration, print the sum of the current and previous number."
   ]
  },
  {
   "cell_type": "code",
   "execution_count": 85,
   "id": "0a7f643f-188e-4f3c-811e-abff39c71394",
   "metadata": {},
   "outputs": [
    {
     "name": "stdout",
     "output_type": "stream",
     "text": [
      "Current number is 0 Previous number is 0, Sum: 0\n",
      "Current number is 1 Previous number is 0, Sum: 1\n",
      "Current number is 2 Previous number is 1, Sum: 3\n",
      "Current number is 3 Previous number is 2, Sum: 5\n",
      "Current number is 4 Previous number is 3, Sum: 7\n",
      "Current number is 5 Previous number is 4, Sum: 9\n",
      "Current number is 6 Previous number is 5, Sum: 11\n",
      "Current number is 7 Previous number is 6, Sum: 13\n",
      "Current number is 8 Previous number is 7, Sum: 15\n",
      "Current number is 9 Previous number is 8, Sum: 17\n"
     ]
    }
   ],
   "source": [
    "# Solution 1\n",
    "\n",
    "for i in range(10):\n",
    "    if i == 0:\n",
    "        print(f\"Current number is {i} Previous number is {i}, Sum: 0\")\n",
    "    else:\n",
    "        j = i + (i - 1)\n",
    "        print(f\"Current number is {i} Previous number is {i - 1}, Sum: {j}\")"
   ]
  },
  {
   "cell_type": "code",
   "execution_count": 86,
   "id": "d57f7052-bddd-43fd-a4e2-9e39981dc8fd",
   "metadata": {},
   "outputs": [
    {
     "name": "stdout",
     "output_type": "stream",
     "text": [
      "Current number is 0 Previous number is 0, Sum: 0\n",
      "Current number is 1 Previous number is 0, Sum: 1\n",
      "Current number is 2 Previous number is 1, Sum: 3\n",
      "Current number is 3 Previous number is 2, Sum: 5\n",
      "Current number is 4 Previous number is 3, Sum: 7\n",
      "Current number is 5 Previous number is 4, Sum: 9\n",
      "Current number is 6 Previous number is 5, Sum: 11\n",
      "Current number is 7 Previous number is 6, Sum: 13\n"
     ]
    }
   ],
   "source": [
    "# SOlution 2\n",
    "\n",
    "def sum_num(n):\n",
    "    for i in range(n):\n",
    "        if i == 0:\n",
    "            print(f\"Current number is {i} Previous number is {i}, Sum: 0\")\n",
    "        else:\n",
    "            j = i + (i - 1)\n",
    "            print(f\"Current number is {i} Previous number is {i - 1}, Sum: {j}\")\n",
    "\n",
    "sum_num(8)"
   ]
  },
  {
   "cell_type": "markdown",
   "id": "48571a9c-3fe2-48f1-9b41-abde4553e8b7",
   "metadata": {},
   "source": [
    "### Exercise 3: Print characters present at an even index number\n",
    "##### Write a Python code to accept a string from the user and display characters present at an even index number.\n",
    "\n",
    "##### For example, str = \"PYnative\". so your code should display ‘P’, ‘n’, ‘t’, ‘v’."
   ]
  },
  {
   "cell_type": "code",
   "execution_count": 88,
   "id": "1491b982-21ea-4515-b86b-ce1e3a1764ea",
   "metadata": {},
   "outputs": [
    {
     "name": "stdout",
     "output_type": "stream",
     "text": [
      "P\n",
      "n\n",
      "t\n",
      "v\n"
     ]
    }
   ],
   "source": [
    "def strng_operation(str1):\n",
    "    for i in range(len(str1)):\n",
    "        if i % 2 == 0:\n",
    "            print(str1[i])\n",
    "\n",
    "strng_operation(\"PYnative\")"
   ]
  },
  {
   "cell_type": "markdown",
   "id": "72cee360-1ddd-4904-a0db-582bd57b381b",
   "metadata": {},
   "source": [
    "### Exercise 4: Remove first n characters from a string\n",
    "##### Write a Python code to remove characters from a string from 0 to n and return a new string."
   ]
  },
  {
   "cell_type": "code",
   "execution_count": 90,
   "id": "e54afa98-db04-40a2-a8a0-6149cbb3996a",
   "metadata": {},
   "outputs": [
    {
     "name": "stdout",
     "output_type": "stream",
     "text": [
      "native\n"
     ]
    }
   ],
   "source": [
    "#Solution 1\n",
    "\n",
    "def remove_chars(str1, n):\n",
    "    new_str = str1.replace(str1[:n], \"\")\n",
    "    print(new_str)\n",
    "\n",
    "remove_chars(\"PYnative\", 2)"
   ]
  },
  {
   "cell_type": "code",
   "execution_count": 91,
   "id": "6bab2956-f476-4208-bd01-fdc24be907c1",
   "metadata": {},
   "outputs": [
    {
     "name": "stdout",
     "output_type": "stream",
     "text": [
      "native\n"
     ]
    }
   ],
   "source": [
    "#Solution 2\n",
    "\n",
    "def remove_chars(str1, n):\n",
    "    print(str1[n:])\n",
    "\n",
    "remove_chars(\"PYnative\", 2)"
   ]
  },
  {
   "cell_type": "markdown",
   "id": "0a6e7d9f-93ff-40fc-904d-8d4661b031ec",
   "metadata": {},
   "source": [
    "### Exercise 5: Check if the first and last numbers of a list are the same\n",
    "##### Write a code to return True if the list’s first and last numbers are the same. If the numbers are different, return False."
   ]
  },
  {
   "cell_type": "code",
   "execution_count": 93,
   "id": "5204dc3c-492a-460a-8e30-90b398f1aa5c",
   "metadata": {},
   "outputs": [
    {
     "name": "stdout",
     "output_type": "stream",
     "text": [
      "Given list:  [75, 65, 35, 75, 30]\n",
      "result is  False\n"
     ]
    }
   ],
   "source": [
    "# Solution 1\n",
    "\n",
    "def comp_list(list1):\n",
    "    print(\"Given list: \", list1)\n",
    "    print(\"result is \", list1[0] == list1[-1])\n",
    "\n",
    "comp_list([75, 65, 35, 75, 30])"
   ]
  },
  {
   "cell_type": "code",
   "execution_count": 94,
   "id": "68e9851f-c43d-43d1-b67c-3b9a7987a997",
   "metadata": {},
   "outputs": [
    {
     "name": "stdout",
     "output_type": "stream",
     "text": [
      "Given list:  [10, 20, 30, 40, 10]\n",
      "result is True\n"
     ]
    }
   ],
   "source": [
    "# Solution 2\n",
    "\n",
    "def comp_list(list1):\n",
    "    print(\"Given list: \", list1)\n",
    "    if list1[0] == list1[-1]:\n",
    "        print(\"result is True\")\n",
    "    else:\n",
    "        print(\"result is False\")\n",
    "\n",
    "comp_list([10, 20, 30, 40, 10])"
   ]
  },
  {
   "cell_type": "markdown",
   "id": "3995ece0-dd92-46bf-81af-f6a439ad073a",
   "metadata": {},
   "source": [
    "### Exercise 6: Display numbers divisible by 5\n",
    "##### Write a Python code to display numbers from a list divisible by 5"
   ]
  },
  {
   "cell_type": "code",
   "execution_count": 96,
   "id": "f45284d5-0b50-4f71-8e37-7cd36e3230cb",
   "metadata": {},
   "outputs": [
    {
     "name": "stdout",
     "output_type": "stream",
     "text": [
      "Given list is  [10, 20, 33, 46, 55]\n",
      "Divisible by 5\n",
      "10\n",
      "20\n",
      "55\n"
     ]
    }
   ],
   "source": [
    "def mul_by_5(list1):\n",
    "    print(\"Given list is \", list1)\n",
    "    print(\"Divisible by 5\")\n",
    "    \n",
    "    for i in range(len(list1)):\n",
    "        if list1[i] % 5 == 0:\n",
    "            print(list1[i])\n",
    "\n",
    "mul_by_5([10, 20, 33, 46, 55])"
   ]
  },
  {
   "cell_type": "markdown",
   "id": "163266c1-36b0-440a-a136-4eb146bfc00a",
   "metadata": {},
   "source": [
    "### Exercise 7: Find the number of occurrences of a substring in a string\n",
    "##### Write a Python code to find how often the substring “Emma” appears in the given string."
   ]
  },
  {
   "cell_type": "code",
   "execution_count": 98,
   "id": "ce4c779a-1755-4291-994a-f5feb0a74041",
   "metadata": {},
   "outputs": [
    {
     "name": "stdout",
     "output_type": "stream",
     "text": [
      "Little appeared 1 times\n"
     ]
    }
   ],
   "source": [
    "def find_str(str_x, word_x):\n",
    "    list_x = str_x.split()\n",
    "    n = list_x.count(word_x)\n",
    "    print(f\"{word_x} appeared {n} times\")\n",
    "\n",
    "find_str(\"Mary had a little lamb, Little lamb, little lamb, Mary had a little lamb\", \"Little\")"
   ]
  },
  {
   "cell_type": "markdown",
   "id": "ecf7e11f-5b28-485f-8b92-73e8c774e858",
   "metadata": {},
   "source": [
    "### Exercise 8: Print the following pattern\n",
    "##### 1\n",
    "##### 2 2\n",
    "##### 3 3 3\n",
    "##### 4 4 4 4\n",
    "##### 5 5 5 5 5"
   ]
  },
  {
   "cell_type": "code",
   "execution_count": 100,
   "id": "25117093-7437-4f48-9340-651feedd0bd5",
   "metadata": {},
   "outputs": [
    {
     "name": "stdout",
     "output_type": "stream",
     "text": [
      "\n",
      "\n",
      "1 \n",
      "\n",
      "2 2 \n",
      "\n",
      "3 3 3 \n",
      "\n",
      "4 4 4 4 \n",
      "\n",
      "5 5 5 5 5 \n",
      "\n"
     ]
    }
   ],
   "source": [
    "def lines_print(n):\n",
    "    for i in range(n+1):\n",
    "        for j in range(i):\n",
    "            print(i, end = \" \")\n",
    "        print('\\n')\n",
    "\n",
    "lines_print(5)"
   ]
  },
  {
   "cell_type": "markdown",
   "id": "d3ca63ba-ea91-4612-8af0-2ee6473eae05",
   "metadata": {},
   "source": [
    "### Exercise 9: Check Palindrome Number\n",
    "##### Write a Python code to check if the given number is palindrome. A palindrome number is a number that is the same after reverse. For example, 545 is the palindrome number."
   ]
  },
  {
   "cell_type": "code",
   "execution_count": 102,
   "id": "3aaad8fa-100c-40ae-8a18-8507b0af8383",
   "metadata": {},
   "outputs": [
    {
     "name": "stdout",
     "output_type": "stream",
     "text": [
      "Given number is: 110\n",
      "Reverse number is: 11\n",
      "Given number is not a palindrome\n"
     ]
    }
   ],
   "source": [
    "def palind(n):\n",
    "    print(\"Given number is:\", n)\n",
    "\n",
    "    rev_num = 0\n",
    "    while n > 0:\n",
    "        remainder = n % 10\n",
    "        rev_num = (rev_num * 10) + remainder\n",
    "        n = n // 10\n",
    "\n",
    "    print(\"Reverse number is:\", rev_num)\n",
    "    if n == rev_num:\n",
    "        print(\"Given number is a palindrome\")\n",
    "    else:\n",
    "        print(\"Given number is not a palindrome\")\n",
    "\n",
    "palind(110)\n",
    "        "
   ]
  },
  {
   "cell_type": "markdown",
   "id": "fdbb4b0c-32b7-4c81-965d-7d6e29dc9157",
   "metadata": {},
   "source": [
    "### Exercise 10: Merge two lists using the following condition\n",
    "##### Given two lists of numbers, write a Python code to create a new list such that the latest list should contain odd numbers from the first list and even numbers from the second list."
   ]
  },
  {
   "cell_type": "code",
   "execution_count": 104,
   "id": "0c4d03d7-e18c-4a01-ba59-3eaed7132fca",
   "metadata": {},
   "outputs": [
    {
     "name": "stdout",
     "output_type": "stream",
     "text": [
      "[25, 35, 40, 60, 90]\n"
     ]
    }
   ],
   "source": [
    "def list_combo(list1, list2):\n",
    "    odd_list = []\n",
    "    even_list = []\n",
    "    \n",
    "    for i in range(len(list1)):\n",
    "        if list1[i] % 2 != 0:\n",
    "            odd_list.append(list1[i])\n",
    "\n",
    "    for i in range(len(list2)):\n",
    "        if list2[i] % 2 == 0:\n",
    "            even_list.append(list2[i])\n",
    "\n",
    "    final_list = odd_list + even_list\n",
    "    print(final_list)\n",
    "\n",
    "list_combo([10, 20, 25, 30, 35], [40, 45, 60, 75, 90])"
   ]
  },
  {
   "cell_type": "markdown",
   "id": "42d22bc7-cabe-4f88-a275-37672eeb5682",
   "metadata": {},
   "source": [
    "### Exercise 11: Get each digit from a number in the reverse order.\n",
    "##### For example, If the given integer number is 7536, the output shall be “6 3 5 7“, with a space separating the digits."
   ]
  },
  {
   "cell_type": "code",
   "execution_count": 128,
   "id": "2ca383e5-3fcc-4dba-9343-bce0ea503f51",
   "metadata": {},
   "outputs": [
    {
     "name": "stdout",
     "output_type": "stream",
     "text": [
      "5 4 3 2 1 "
     ]
    }
   ],
   "source": [
    "def rev_digits(n):\n",
    "    while n != 0:\n",
    "        digit = n % 10\n",
    "        n = n // 10\n",
    "        print(digit, end =\" \")\n",
    "\n",
    "\n",
    "rev_digits(12345)    "
   ]
  },
  {
   "cell_type": "markdown",
   "id": "e71171fe-571b-4ef3-91c4-af15d110a38f",
   "metadata": {},
   "source": [
    "### Exercise 12: Calculate income tax\n",
    "##### Calculate income tax for the given income by adhering to the rules below\n",
    "##### First 10,000 - 0%, next 10,000 - 10% , reamining - 20%"
   ]
  },
  {
   "cell_type": "code",
   "execution_count": 146,
   "id": "ec3bc950-13a2-47ec-80fa-10745ab86f80",
   "metadata": {},
   "outputs": [
    {
     "name": "stdout",
     "output_type": "stream",
     "text": [
      "You have to pay 6000.0 as tax\n"
     ]
    }
   ],
   "source": [
    "def calc_income_tax(x):\n",
    "    if x <= 10000:\n",
    "        print(\"Your income is not taxable\")\n",
    "    elif x > 10000 and x <= 20000:\n",
    "        tax = (x-10000) * 0.1\n",
    "        print(f\"You have to pay {tax} as tax\")\n",
    "    else:\n",
    "        tax = 10000 * 0.1 + (x - 20000) * 0.2\n",
    "        print(f\"You have to pay {tax} as tax\")\n",
    "\n",
    "\n",
    "calc_income_tax(45000)"
   ]
  },
  {
   "cell_type": "markdown",
   "id": "8c160869-1b83-4d4b-ba74-480ca00dd254",
   "metadata": {},
   "source": [
    "### Exercise 13: Print multiplication table from 1 to 10"
   ]
  },
  {
   "cell_type": "code",
   "execution_count": 165,
   "id": "9f660353-4de2-4a13-a90d-71ebb328a0c3",
   "metadata": {},
   "outputs": [
    {
     "name": "stdout",
     "output_type": "stream",
     "text": [
      "1 2 3 4 5 6 7 8 9 10 \t\t\n",
      "2 4 6 8 10 12 14 16 18 20 \t\t\n",
      "3 6 9 12 15 18 21 24 27 30 \t\t\n",
      "4 8 12 16 20 24 28 32 36 40 \t\t\n",
      "5 10 15 20 25 30 35 40 45 50 \t\t\n",
      "6 12 18 24 30 36 42 48 54 60 \t\t\n",
      "7 14 21 28 35 42 49 56 63 70 \t\t\n",
      "8 16 24 32 40 48 56 64 72 80 \t\t\n",
      "9 18 27 36 45 54 63 72 81 90 \t\t\n",
      "10 20 30 40 50 60 70 80 90 100 \t\t\n"
     ]
    }
   ],
   "source": [
    "def tables(n):\n",
    "    for i in range(1, n + 1):\n",
    "        for j in range(1, 11):\n",
    "            product = i * j\n",
    "\n",
    "            print(product, end = \" \")\n",
    "        print(\"\\t\\t\")\n",
    "\n",
    "tables(10)"
   ]
  },
  {
   "cell_type": "markdown",
   "id": "03a95f72-e728-453f-84e6-c4f14a3739f3",
   "metadata": {},
   "source": [
    "### Exercise 14: Print a downward half-pyramid pattern of stars\n",
    "##### * * * * *\n",
    "##### * * * *\n",
    "##### * * *\n",
    "##### * *\n",
    "##### *"
   ]
  },
  {
   "cell_type": "code",
   "execution_count": 177,
   "id": "8056222a-b7e2-4fb5-9ccf-ebcd5bf1bacb",
   "metadata": {},
   "outputs": [
    {
     "name": "stdout",
     "output_type": "stream",
     "text": [
      "* * * * * * * * * * \t\t\n",
      "* * * * * * * * * \t\t\n",
      "* * * * * * * * \t\t\n",
      "* * * * * * * \t\t\n",
      "* * * * * * \t\t\n",
      "* * * * * \t\t\n",
      "* * * * \t\t\n",
      "* * * \t\t\n",
      "* * \t\t\n",
      "* \t\t\n"
     ]
    }
   ],
   "source": [
    "def print_pattern(n):\n",
    "    for i in range(n, 0, -1):\n",
    "        for j in range(i, 0, -1):\n",
    "            print(\"*\", end = \" \")\n",
    "        print(\"\\t\\t\")\n",
    "\n",
    "print_pattern(10)"
   ]
  },
  {
   "cell_type": "markdown",
   "id": "d6961c10-cb69-443f-8ef5-7cc6e96576c2",
   "metadata": {},
   "source": [
    "### Exercise 15: Get an int value of base raises to the power of exponent"
   ]
  },
  {
   "cell_type": "code",
   "execution_count": 186,
   "id": "b77761fb-0f95-416f-b10d-faa21ccf39fa",
   "metadata": {},
   "outputs": [
    {
     "name": "stdout",
     "output_type": "stream",
     "text": [
      "base = 5\n",
      "exponent = 4\n",
      "5 raises to the power of 4: 625\n"
     ]
    }
   ],
   "source": [
    "# Solution 1 - using pow() function\n",
    "\n",
    "def pow_calc(b, e):\n",
    "    print(f\"base = {b}\\nexponent = {e}\")\n",
    "    result  = pow(b, e)\n",
    "    print(f\"{b} raises to the power of {e}: {result}\")\n",
    "\n",
    "pow_calc(5, 4)"
   ]
  },
  {
   "cell_type": "code",
   "execution_count": 192,
   "id": "87475290-1e5c-42bb-ba04-74f5b5611e7c",
   "metadata": {},
   "outputs": [
    {
     "name": "stdout",
     "output_type": "stream",
     "text": [
      "2 raises to the power of 5: 32\n"
     ]
    }
   ],
   "source": [
    "# Solution 2 - using for loop\n",
    "\n",
    "def calc_fn(b, e):\n",
    "    prod = 1\n",
    "    for i in range(1, e+1, 1):\n",
    "        prod = prod * b\n",
    "    print(f\"{b} raises to the power of {e}: {prod}\")\n",
    "\n",
    "calc_fn(2, 5)"
   ]
  }
 ],
 "metadata": {
  "kernelspec": {
   "display_name": "Python [conda env:base] *",
   "language": "python",
   "name": "conda-base-py"
  },
  "language_info": {
   "codemirror_mode": {
    "name": "ipython",
    "version": 3
   },
   "file_extension": ".py",
   "mimetype": "text/x-python",
   "name": "python",
   "nbconvert_exporter": "python",
   "pygments_lexer": "ipython3",
   "version": "3.12.7"
  }
 },
 "nbformat": 4,
 "nbformat_minor": 5
}
